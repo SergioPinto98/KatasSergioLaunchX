{
 "cells": [
  {
   "cell_type": "markdown",
   "metadata": {},
   "source": [
    "## Creación de Diccionarios en Python"
   ]
  },
  {
   "cell_type": "code",
   "execution_count": 1,
   "metadata": {},
   "outputs": [],
   "source": [
    "planet = {\n",
    "    'name': 'Mars',\n",
    "    'moons': 2\n",
    "}"
   ]
  },
  {
   "cell_type": "code",
   "execution_count": 3,
   "metadata": {},
   "outputs": [
    {
     "name": "stdout",
     "output_type": "stream",
     "text": [
      " planeta:Mars\n",
      " lunas:2\n"
     ]
    }
   ],
   "source": [
    "print(f\" planeta:{planet['name']}\\n lunas:{planet['moons']}\")"
   ]
  },
  {
   "cell_type": "code",
   "execution_count": 4,
   "metadata": {},
   "outputs": [],
   "source": [
    "#Agregar nuevos datos al diccionario\n",
    "planet['circunferencia (km)'] = {\n",
    "    'polar': 6752,\n",
    "    'equatorial': 6792\n",
    "}"
   ]
  },
  {
   "cell_type": "code",
   "execution_count": 6,
   "metadata": {},
   "outputs": [
    {
     "name": "stdout",
     "output_type": "stream",
     "text": [
      " planeta:Mars\n",
      " circunferencia polar:6752\n"
     ]
    }
   ],
   "source": [
    "print(f\" planeta:{planet['name']}\\n circunferencia polar:{planet['circunferencia (km)']['polar']}\")"
   ]
  },
  {
   "cell_type": "markdown",
   "metadata": {},
   "source": [
    "## Programación dinámica con diccionarios"
   ]
  },
  {
   "cell_type": "code",
   "execution_count": 7,
   "metadata": {},
   "outputs": [],
   "source": [
    "planet_moons = {\n",
    "    'mercury': 0,\n",
    "    'venus': 0,\n",
    "    'earth': 1,\n",
    "    'mars': 2,\n",
    "    'jupiter': 79,\n",
    "    'saturn': 82,\n",
    "    'uranus': 27,\n",
    "    'neptune': 14,\n",
    "    'pluto': 5,\n",
    "    'haumea': 2,\n",
    "    'makemake': 1,\n",
    "    'eris': 1\n",
    "}"
   ]
  },
  {
   "cell_type": "code",
   "execution_count": 10,
   "metadata": {},
   "outputs": [
    {
     "name": "stdout",
     "output_type": "stream",
     "text": [
      "Hay un total de 214 en el sistema solar\n"
     ]
    }
   ],
   "source": [
    "#Calcular el numero total de lunas\n",
    "total_lunas = 0\n",
    "\n",
    "for moons in planet_moons.values():\n",
    "    total_lunas = total_lunas + moons\n",
    "\n",
    "print(f'Hay un total de {total_lunas} en el sistema solar')"
   ]
  },
  {
   "cell_type": "code",
   "execution_count": 13,
   "metadata": {},
   "outputs": [
    {
     "name": "stdout",
     "output_type": "stream",
     "text": [
      "Hay un promedio de 18 lunas por planeta en el sistema solar\n"
     ]
    }
   ],
   "source": [
    "#Calcular el promedio de lunas por planeta\n",
    "total_lunas = 0\n",
    "total_planetas = len(planet_moons.keys())\n",
    "\n",
    "for moons in planet_moons.values():\n",
    "    total_lunas = total_lunas + moons\n",
    "\n",
    "print(f'Hay un promedio de {round(total_lunas/total_planetas)} lunas por planeta en el sistema solar')"
   ]
  }
 ],
 "metadata": {
  "interpreter": {
   "hash": "f1ed976337562453ecda4761f991c87d4d0fe2900adb1fb019d7d0230e51b525"
  },
  "kernelspec": {
   "display_name": "Python 3.10.2 64-bit",
   "language": "python",
   "name": "python3"
  },
  "language_info": {
   "codemirror_mode": {
    "name": "ipython",
    "version": 3
   },
   "file_extension": ".py",
   "mimetype": "text/x-python",
   "name": "python",
   "nbconvert_exporter": "python",
   "pygments_lexer": "ipython3",
   "version": "3.10.2"
  },
  "orig_nbformat": 4
 },
 "nbformat": 4,
 "nbformat_minor": 2
}
