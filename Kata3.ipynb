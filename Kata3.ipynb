{
 "cells": [
  {
   "cell_type": "markdown",
   "metadata": {},
   "source": [
    "## Escribir declaraciones if, else, y elif"
   ]
  },
  {
   "cell_type": "code",
   "execution_count": 12,
   "metadata": {},
   "outputs": [
    {
     "name": "stdout",
     "output_type": "stream",
     "text": [
      "¡Alerta! Un asteroide se acerca demasiado rápido hacia la tierra\n"
     ]
    }
   ],
   "source": [
    "asteroide = 49\n",
    "if asteroide > 25:\n",
    "    print(\"¡Alerta! Un asteroide se acerca demasiado rápido hacia la tierra\")\n",
    "else:\n",
    "    print(\"El asteroide no representa amenaza\")"
   ]
  },
  {
   "cell_type": "code",
   "execution_count": 13,
   "metadata": {},
   "outputs": [
    {
     "name": "stdout",
     "output_type": "stream",
     "text": [
      "Sigue en lo que estabas\n"
     ]
    }
   ],
   "source": [
    "asteroide2 = 19\n",
    "if asteroide2 > 20:\n",
    "    print(\"¡Mira al cielo! Hay una luz de un asteroide\")\n",
    "elif asteroide2 == 20:\n",
    "    print(\"¡Mira al cielo! Hay una luz de un asteroide\")\n",
    "else:\n",
    "    print(\"Sigue en lo que estabas\")"
   ]
  },
  {
   "cell_type": "markdown",
   "metadata": {},
   "source": [
    "## Uso de operadores and y or"
   ]
  },
  {
   "cell_type": "code",
   "execution_count": 34,
   "metadata": {},
   "outputs": [
    {
     "name": "stdout",
     "output_type": "stream",
     "text": [
      "¡Alerta! un asteroide es de gran tamaño se acerca rapido a la tierra\n"
     ]
    }
   ],
   "source": [
    "tam = 26\n",
    "vel = 40\n",
    "if tam > 25 and vel > 25:\n",
    "    print(\"¡Alerta! un asteroide es de gran tamaño se acerca rapido a la tierra\")\n",
    "elif vel > 20 or vel == 20:\n",
    "    print(\"¡Mira al cielo! Hay una luz de un asteroide\")\n",
    "else:\n",
    "    print(\"Sigue en lo que estabas\")"
   ]
  }
 ],
 "metadata": {
  "interpreter": {
   "hash": "f1ed976337562453ecda4761f991c87d4d0fe2900adb1fb019d7d0230e51b525"
  },
  "kernelspec": {
   "display_name": "Python 3.10.2 64-bit",
   "language": "python",
   "name": "python3"
  },
  "language_info": {
   "codemirror_mode": {
    "name": "ipython",
    "version": 3
   },
   "file_extension": ".py",
   "mimetype": "text/x-python",
   "name": "python",
   "nbconvert_exporter": "python",
   "pygments_lexer": "ipython3",
   "version": "3.10.2"
  },
  "orig_nbformat": 4
 },
 "nbformat": 4,
 "nbformat_minor": 2
}
