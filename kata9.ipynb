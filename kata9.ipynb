{
 "cells": [
  {
   "cell_type": "markdown",
   "metadata": {},
   "source": [
    "# Uso de funciones en Python\n",
    "## Trabajar con argumentos en funciones"
   ]
  },
  {
   "cell_type": "code",
   "execution_count": 1,
   "metadata": {},
   "outputs": [],
   "source": [
    "def informe_combustible(tanque1,tanque2,tanque3):\n",
    "    promedio_tanques = (tanque1+tanque2+tanque3)/3\n",
    "    return (f'''Informme:\n",
    "    El promedio de combustible es: {promedio_tanques}''')\n"
   ]
  },
  {
   "cell_type": "code",
   "execution_count": 2,
   "metadata": {},
   "outputs": [
    {
     "data": {
      "text/plain": [
       "'Informme:\\n    El promedio de combustible es: 35.333333333333336'"
      ]
     },
     "execution_count": 2,
     "metadata": {},
     "output_type": "execute_result"
    }
   ],
   "source": [
    "informe_combustible(25,69,12)"
   ]
  },
  {
   "cell_type": "code",
   "execution_count": 3,
   "metadata": {},
   "outputs": [],
   "source": [
    "def promedio(numero_tanques):\n",
    "    calculo = sum(numero_tanques)/ len(numero_tanques)\n",
    "    return calculo"
   ]
  },
  {
   "cell_type": "code",
   "execution_count": 4,
   "metadata": {},
   "outputs": [
    {
     "data": {
      "text/plain": [
       "35.333333333333336"
      ]
     },
     "execution_count": 4,
     "metadata": {},
     "output_type": "execute_result"
    }
   ],
   "source": [
    "promedio([25,69,12])"
   ]
  },
  {
   "cell_type": "code",
   "execution_count": 5,
   "metadata": {},
   "outputs": [],
   "source": [
    "def informe_combustible(tanque1,tanque2,tanque3):\n",
    "    promedio_tanques = promedio([tanque1,tanque2,tanque3])\n",
    "    return f'''Informme:\n",
    "    El promedio de combustible es: {promedio_tanques}'''"
   ]
  },
  {
   "cell_type": "code",
   "execution_count": 7,
   "metadata": {},
   "outputs": [
    {
     "data": {
      "text/plain": [
       "'Informme:\\n    El promedio de combustible es: 70.33333333333333'"
      ]
     },
     "execution_count": 7,
     "metadata": {},
     "output_type": "execute_result"
    }
   ],
   "source": [
    "informe_combustible(52,63,96)"
   ]
  },
  {
   "cell_type": "markdown",
   "metadata": {},
   "source": [
    "## Trabajar con argumentos de palabras clave en funciones"
   ]
  },
  {
   "cell_type": "code",
   "execution_count": 8,
   "metadata": {},
   "outputs": [],
   "source": [
    "def informe_mision (hora_prelanz, tiempo_vuelo, destino, tanque_externo, tanque_interno):\n",
    "    return f'''Mision a: {destino}\n",
    "    tiempo de viaje: {hora_prelanz+tiempo_vuelo}minutos\n",
    "    Total combustible: {tanque_externo+tanque_interno}'''\n",
    "\n"
   ]
  },
  {
   "cell_type": "code",
   "execution_count": 9,
   "metadata": {},
   "outputs": [
    {
     "data": {
      "text/plain": [
       "'Mision a: Marte\\n    tiempo de viaje: 75minutos\\n    Total combustible: 148'"
      ]
     },
     "execution_count": 9,
     "metadata": {},
     "output_type": "execute_result"
    }
   ],
   "source": [
    "informe_mision(23,52,'Marte',52,96)"
   ]
  },
  {
   "cell_type": "code",
   "execution_count": 10,
   "metadata": {},
   "outputs": [],
   "source": [
    "def informe_mision (destino, *minutes, **fuel_reservoir):\n",
    "    return f'''Mision a: {destino}\n",
    "    tiempo de viaje: {sum(minutes)}minutos\n",
    "    Total combustible: {sum(fuel_reservoir.values())}'''"
   ]
  },
  {
   "cell_type": "code",
   "execution_count": 11,
   "metadata": {},
   "outputs": [
    {
     "data": {
      "text/plain": [
       "'Mision a: Marte\\n    tiempo de viaje: 75minutos\\n    Total combustible: 148'"
      ]
     },
     "execution_count": 11,
     "metadata": {},
     "output_type": "execute_result"
    }
   ],
   "source": [
    "informe_mision('Marte',23,52,externo=52,interno=96)"
   ]
  },
  {
   "cell_type": "code",
   "execution_count": 12,
   "metadata": {},
   "outputs": [],
   "source": [
    "def informe_mision (destino, *minutes, **fuel_reservoir):\n",
    "    print (f'''Mision a: {destino}\n",
    "    tiempo de viaje: {sum(minutes)}minutos\n",
    "    Total combustible: {sum(fuel_reservoir.values())}''')\n",
    "\n",
    "    for tanque, cantidad in fuel_reservoir.items():\n",
    "        print(f'{tanque}: {cantidad}')"
   ]
  },
  {
   "cell_type": "code",
   "execution_count": 13,
   "metadata": {},
   "outputs": [
    {
     "name": "stdout",
     "output_type": "stream",
     "text": [
      "Mision a: Marte\n",
      "    tiempo de viaje: 75minutos\n",
      "    Total combustible: 148\n",
      "externo: 52\n",
      "interno: 96\n"
     ]
    }
   ],
   "source": [
    "informe_mision('Marte',23,52,externo=52,interno=96)"
   ]
  }
 ],
 "metadata": {
  "interpreter": {
   "hash": "f1ed976337562453ecda4761f991c87d4d0fe2900adb1fb019d7d0230e51b525"
  },
  "kernelspec": {
   "display_name": "Python 3.10.2 64-bit",
   "language": "python",
   "name": "python3"
  },
  "language_info": {
   "codemirror_mode": {
    "name": "ipython",
    "version": 3
   },
   "file_extension": ".py",
   "mimetype": "text/x-python",
   "name": "python",
   "nbconvert_exporter": "python",
   "pygments_lexer": "ipython3",
   "version": "3.10.2"
  },
  "orig_nbformat": 4
 },
 "nbformat": 4,
 "nbformat_minor": 2
}
