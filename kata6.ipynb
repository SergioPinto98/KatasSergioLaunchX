{
 "cells": [
  {
   "cell_type": "markdown",
   "metadata": {},
   "source": [
    "## Crear y usar listas de Python"
   ]
  },
  {
   "cell_type": "code",
   "execution_count": 2,
   "metadata": {},
   "outputs": [
    {
     "name": "stdout",
     "output_type": "stream",
     "text": [
      "['mercurio', 'venus', 'tierra', 'marte', 'jupiter', 'saturno', 'urano', 'neptuno']\n"
     ]
    }
   ],
   "source": [
    "#crear lista\n",
    "planets = ['mercurio', 'venus', 'tierra', 'marte', 'jupiter', 'saturno', 'urano', 'neptuno']\n",
    "print(planets)"
   ]
  },
  {
   "cell_type": "code",
   "execution_count": 3,
   "metadata": {},
   "outputs": [
    {
     "name": "stdout",
     "output_type": "stream",
     "text": [
      "El ultimo planeta es pluton\n"
     ]
    }
   ],
   "source": [
    "#agregar un elemnto al final de la lista y mostrarlo\n",
    "planets.append('pluton')\n",
    "print('El ultimo planeta es', planets[-1])"
   ]
  },
  {
   "cell_type": "markdown",
   "metadata": {},
   "source": [
    "## Trabajando con datos de una lista"
   ]
  },
  {
   "cell_type": "code",
   "execution_count": 7,
   "metadata": {},
   "outputs": [],
   "source": [
    "planets2 = ['Mercury', 'Venus', 'Earth', 'Mars', 'Jupiter', 'Saturn', 'Neptune']"
   ]
  },
  {
   "cell_type": "code",
   "execution_count": 8,
   "metadata": {},
   "outputs": [],
   "source": [
    "planeta_consult = input('Inserta el nombre del planeta que deseas consultar, recuerda que la primera letra debe ser mayuscula')"
   ]
  },
  {
   "cell_type": "code",
   "execution_count": 9,
   "metadata": {},
   "outputs": [
    {
     "name": "stdout",
     "output_type": "stream",
     "text": [
      "4\n"
     ]
    }
   ],
   "source": [
    "usuario_index = planets2.index(planeta_consult)\n",
    "print(usuario_index)"
   ]
  },
  {
   "cell_type": "code",
   "execution_count": 23,
   "metadata": {},
   "outputs": [
    {
     "name": "stdout",
     "output_type": "stream",
     "text": [
      "Planetas mas cercanos al sol que Jupiter:\n",
      " ['Mercury', 'Venus', 'Earth', 'Mars']\n"
     ]
    }
   ],
   "source": [
    "#Planetas mas cercanos al sol\n",
    "planetas_antes = planets2[0:usuario_index]\n",
    "print(f\"Planetas mas cercanos al sol que {planeta_consult}:\\n {planetas_antes}\")"
   ]
  },
  {
   "cell_type": "code",
   "execution_count": 22,
   "metadata": {},
   "outputs": [
    {
     "name": "stdout",
     "output_type": "stream",
     "text": [
      "Planetas mas alejados del sol que Jupiter:\n",
      " ['Saturn', 'Neptune']\n"
     ]
    }
   ],
   "source": [
    "#Planetas mas alejados del sol\n",
    "planetas_despues = planets2[usuario_index + 1:]\n",
    "print(f\"Planetas mas alejados del sol que {planeta_consult}:\\n {planetas_despues}\")"
   ]
  }
 ],
 "metadata": {
  "interpreter": {
   "hash": "f1ed976337562453ecda4761f991c87d4d0fe2900adb1fb019d7d0230e51b525"
  },
  "kernelspec": {
   "display_name": "Python 3.10.2 64-bit",
   "language": "python",
   "name": "python3"
  },
  "language_info": {
   "codemirror_mode": {
    "name": "ipython",
    "version": 3
   },
   "file_extension": ".py",
   "mimetype": "text/x-python",
   "name": "python",
   "nbconvert_exporter": "python",
   "pygments_lexer": "ipython3",
   "version": "3.10.2"
  },
  "orig_nbformat": 4
 },
 "nbformat": 4,
 "nbformat_minor": 2
}
